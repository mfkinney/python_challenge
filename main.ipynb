{
 "cells": [
  {
   "cell_type": "code",
   "execution_count": 1,
   "id": "88d1d6e2-c3ac-44d4-82ae-7482d85bd488",
   "metadata": {
    "tags": []
   },
   "outputs": [],
   "source": [
    "# Import libraries and dependencies\n",
    "import pandas as pd\n",
    "from pathlib import Path"
   ]
  },
  {
   "cell_type": "code",
   "execution_count": 2,
   "id": "eb7d2406-087e-42c3-89a3-6286060694f9",
   "metadata": {
    "tags": []
   },
   "outputs": [],
   "source": [
    "# Set the path\n",
    "file_path = Path('/Users/markkinney/Desktop/Fintech/python_challenge/PyBank/budget_data.csv')\n",
    "\n",
    "# Read in the CSV as a DataFrame (df)\n",
    "df = pd.read_csv(file_path)"
   ]
  },
  {
   "cell_type": "code",
   "execution_count": 3,
   "id": "1072b419-9c08-4442-996f-8ae00e02886a",
   "metadata": {
    "tags": []
   },
   "outputs": [
    {
     "data": {
      "text/html": [
       "<div>\n",
       "<style scoped>\n",
       "    .dataframe tbody tr th:only-of-type {\n",
       "        vertical-align: middle;\n",
       "    }\n",
       "\n",
       "    .dataframe tbody tr th {\n",
       "        vertical-align: top;\n",
       "    }\n",
       "\n",
       "    .dataframe thead th {\n",
       "        text-align: right;\n",
       "    }\n",
       "</style>\n",
       "<table border=\"1\" class=\"dataframe\">\n",
       "  <thead>\n",
       "    <tr style=\"text-align: right;\">\n",
       "      <th></th>\n",
       "      <th>Date</th>\n",
       "      <th>Profit/Losses</th>\n",
       "    </tr>\n",
       "  </thead>\n",
       "  <tbody>\n",
       "    <tr>\n",
       "      <th>0</th>\n",
       "      <td>Jan-2010</td>\n",
       "      <td>867884</td>\n",
       "    </tr>\n",
       "    <tr>\n",
       "      <th>1</th>\n",
       "      <td>Feb-2010</td>\n",
       "      <td>984655</td>\n",
       "    </tr>\n",
       "    <tr>\n",
       "      <th>2</th>\n",
       "      <td>Mar-2010</td>\n",
       "      <td>322013</td>\n",
       "    </tr>\n",
       "    <tr>\n",
       "      <th>3</th>\n",
       "      <td>Apr-2010</td>\n",
       "      <td>-69417</td>\n",
       "    </tr>\n",
       "    <tr>\n",
       "      <th>4</th>\n",
       "      <td>May-2010</td>\n",
       "      <td>310503</td>\n",
       "    </tr>\n",
       "  </tbody>\n",
       "</table>\n",
       "</div>"
      ],
      "text/plain": [
       "       Date  Profit/Losses\n",
       "0  Jan-2010         867884\n",
       "1  Feb-2010         984655\n",
       "2  Mar-2010         322013\n",
       "3  Apr-2010         -69417\n",
       "4  May-2010         310503"
      ]
     },
     "execution_count": 3,
     "metadata": {},
     "output_type": "execute_result"
    }
   ],
   "source": [
    "#Confirm file in dataframe and formatting\n",
    "df.head(5)"
   ]
  },
  {
   "cell_type": "code",
   "execution_count": 22,
   "id": "35de0208-e9d2-42e7-93a0-e91db9f7fe04",
   "metadata": {
    "tags": []
   },
   "outputs": [
    {
     "name": "stdout",
     "output_type": "stream",
     "text": [
      "86\n"
     ]
    }
   ],
   "source": [
    "# The total number of months included in the dataset\n",
    "total_months = df['Date'].count()\n",
    "print(total_months)"
   ]
  },
  {
   "cell_type": "code",
   "execution_count": 23,
   "id": "25007c68-4319-4890-bf79-0de1140868a1",
   "metadata": {
    "tags": []
   },
   "outputs": [
    {
     "name": "stdout",
     "output_type": "stream",
     "text": [
      "38382578\n"
     ]
    }
   ],
   "source": [
    "# The net total amount of Profit/Losses over the entire period\n",
    "total_profit = df['Profit/Losses'].sum()\n",
    "print(total_profit)"
   ]
  },
  {
   "cell_type": "code",
   "execution_count": 6,
   "id": "591f6e08-4ae8-40fa-9e5e-cbf459fc3e60",
   "metadata": {
    "tags": []
   },
   "outputs": [
    {
     "data": {
      "text/plain": [
       "0          NaN\n",
       "1     116771.0\n",
       "2    -662642.0\n",
       "3    -391430.0\n",
       "4     379920.0\n",
       "        ...   \n",
       "81   -665765.0\n",
       "82    693229.0\n",
       "83   -734926.0\n",
       "84     77242.0\n",
       "85    532869.0\n",
       "Name: Profit/Losses, Length: 86, dtype: float64"
      ]
     },
     "execution_count": 6,
     "metadata": {},
     "output_type": "execute_result"
    }
   ],
   "source": [
    "# The average of the changes in Profit/Losses over the entire period\n",
    "\n",
    "   # Pseudocode\n",
    "\n",
    "         # Find Value of monthly_change from each month to the next\n",
    "         #    monthly_change = Current_Month_Profit - Previous_Month_Profit\n",
    "         #    use .diff function\n",
    "         #    Create a list of monthly_changes\n",
    "         #    Take average of list of monthly_change\n",
    "\n",
    "\n",
    "df[\"Profit/Losses\"].diff()"
   ]
  },
  {
   "cell_type": "code",
   "execution_count": 7,
   "id": "a1f5f569-7e6a-4dec-8f64-aac02da8494e",
   "metadata": {
    "tags": []
   },
   "outputs": [
    {
     "name": "stdout",
     "output_type": "stream",
     "text": [
      "[0          NaN\n",
      "1     116771.0\n",
      "2    -662642.0\n",
      "3    -391430.0\n",
      "4     379920.0\n",
      "        ...   \n",
      "81   -665765.0\n",
      "82    693229.0\n",
      "83   -734926.0\n",
      "84     77242.0\n",
      "85    532869.0\n",
      "Name: Profit/Losses, Length: 86, dtype: float64]\n"
     ]
    }
   ],
   "source": [
    "monthly_change = [df[\"Profit/Losses\"].diff()]\n",
    "print(monthly_change)"
   ]
  },
  {
   "cell_type": "code",
   "execution_count": 9,
   "id": "b8d29fc9-3b70-478a-8189-ca45c3123463",
   "metadata": {
    "tags": []
   },
   "outputs": [
    {
     "data": {
      "text/html": [
       "<div>\n",
       "<style scoped>\n",
       "    .dataframe tbody tr th:only-of-type {\n",
       "        vertical-align: middle;\n",
       "    }\n",
       "\n",
       "    .dataframe tbody tr th {\n",
       "        vertical-align: top;\n",
       "    }\n",
       "\n",
       "    .dataframe thead th {\n",
       "        text-align: right;\n",
       "    }\n",
       "</style>\n",
       "<table border=\"1\" class=\"dataframe\">\n",
       "  <thead>\n",
       "    <tr style=\"text-align: right;\">\n",
       "      <th></th>\n",
       "      <th>Profit/Losses</th>\n",
       "    </tr>\n",
       "  </thead>\n",
       "  <tbody>\n",
       "    <tr>\n",
       "      <th>0</th>\n",
       "      <td>NaN</td>\n",
       "    </tr>\n",
       "    <tr>\n",
       "      <th>1</th>\n",
       "      <td>116771.0</td>\n",
       "    </tr>\n",
       "    <tr>\n",
       "      <th>2</th>\n",
       "      <td>-662642.0</td>\n",
       "    </tr>\n",
       "    <tr>\n",
       "      <th>3</th>\n",
       "      <td>-391430.0</td>\n",
       "    </tr>\n",
       "    <tr>\n",
       "      <th>4</th>\n",
       "      <td>379920.0</td>\n",
       "    </tr>\n",
       "  </tbody>\n",
       "</table>\n",
       "</div>"
      ],
      "text/plain": [
       "   Profit/Losses\n",
       "0            NaN\n",
       "1       116771.0\n",
       "2      -662642.0\n",
       "3      -391430.0\n",
       "4       379920.0"
      ]
     },
     "execution_count": 9,
     "metadata": {},
     "output_type": "execute_result"
    }
   ],
   "source": [
    "newdf = pd.DataFrame(monthly_change)\n",
    "newdf = newdf.transpose()\n",
    "newdf.head(5)"
   ]
  },
  {
   "cell_type": "code",
   "execution_count": 10,
   "id": "d8e2c601-4192-4e6d-a8b6-008432f3fe9d",
   "metadata": {
    "tags": []
   },
   "outputs": [
    {
     "data": {
      "text/html": [
       "<div>\n",
       "<style scoped>\n",
       "    .dataframe tbody tr th:only-of-type {\n",
       "        vertical-align: middle;\n",
       "    }\n",
       "\n",
       "    .dataframe tbody tr th {\n",
       "        vertical-align: top;\n",
       "    }\n",
       "\n",
       "    .dataframe thead th {\n",
       "        text-align: right;\n",
       "    }\n",
       "</style>\n",
       "<table border=\"1\" class=\"dataframe\">\n",
       "  <thead>\n",
       "    <tr style=\"text-align: right;\">\n",
       "      <th></th>\n",
       "      <th>Monthly Change</th>\n",
       "    </tr>\n",
       "  </thead>\n",
       "  <tbody>\n",
       "    <tr>\n",
       "      <th>0</th>\n",
       "      <td>NaN</td>\n",
       "    </tr>\n",
       "    <tr>\n",
       "      <th>1</th>\n",
       "      <td>116771.0</td>\n",
       "    </tr>\n",
       "    <tr>\n",
       "      <th>2</th>\n",
       "      <td>-662642.0</td>\n",
       "    </tr>\n",
       "    <tr>\n",
       "      <th>3</th>\n",
       "      <td>-391430.0</td>\n",
       "    </tr>\n",
       "    <tr>\n",
       "      <th>4</th>\n",
       "      <td>379920.0</td>\n",
       "    </tr>\n",
       "  </tbody>\n",
       "</table>\n",
       "</div>"
      ],
      "text/plain": [
       "   Monthly Change\n",
       "0             NaN\n",
       "1        116771.0\n",
       "2       -662642.0\n",
       "3       -391430.0\n",
       "4        379920.0"
      ]
     },
     "execution_count": 10,
     "metadata": {},
     "output_type": "execute_result"
    }
   ],
   "source": [
    "newdf.rename(columns = {\"Profit/Losses\":\"Monthly Change\"}, inplace=True)\n",
    "newdf.head(5)"
   ]
  },
  {
   "cell_type": "code",
   "execution_count": 11,
   "id": "ae40634e-1c72-4d94-a16b-eca3570a3648",
   "metadata": {
    "tags": []
   },
   "outputs": [
    {
     "data": {
      "text/html": [
       "<div>\n",
       "<style scoped>\n",
       "    .dataframe tbody tr th:only-of-type {\n",
       "        vertical-align: middle;\n",
       "    }\n",
       "\n",
       "    .dataframe tbody tr th {\n",
       "        vertical-align: top;\n",
       "    }\n",
       "\n",
       "    .dataframe thead th {\n",
       "        text-align: right;\n",
       "    }\n",
       "</style>\n",
       "<table border=\"1\" class=\"dataframe\">\n",
       "  <thead>\n",
       "    <tr style=\"text-align: right;\">\n",
       "      <th></th>\n",
       "      <th>Date</th>\n",
       "      <th>Profit/Losses</th>\n",
       "      <th>Monthly Change</th>\n",
       "    </tr>\n",
       "  </thead>\n",
       "  <tbody>\n",
       "    <tr>\n",
       "      <th>0</th>\n",
       "      <td>Jan-2010</td>\n",
       "      <td>867884</td>\n",
       "      <td>NaN</td>\n",
       "    </tr>\n",
       "    <tr>\n",
       "      <th>1</th>\n",
       "      <td>Feb-2010</td>\n",
       "      <td>984655</td>\n",
       "      <td>116771.0</td>\n",
       "    </tr>\n",
       "    <tr>\n",
       "      <th>2</th>\n",
       "      <td>Mar-2010</td>\n",
       "      <td>322013</td>\n",
       "      <td>-662642.0</td>\n",
       "    </tr>\n",
       "    <tr>\n",
       "      <th>3</th>\n",
       "      <td>Apr-2010</td>\n",
       "      <td>-69417</td>\n",
       "      <td>-391430.0</td>\n",
       "    </tr>\n",
       "    <tr>\n",
       "      <th>4</th>\n",
       "      <td>May-2010</td>\n",
       "      <td>310503</td>\n",
       "      <td>379920.0</td>\n",
       "    </tr>\n",
       "  </tbody>\n",
       "</table>\n",
       "</div>"
      ],
      "text/plain": [
       "       Date  Profit/Losses  Monthly Change\n",
       "0  Jan-2010         867884             NaN\n",
       "1  Feb-2010         984655        116771.0\n",
       "2  Mar-2010         322013       -662642.0\n",
       "3  Apr-2010         -69417       -391430.0\n",
       "4  May-2010         310503        379920.0"
      ]
     },
     "execution_count": 11,
     "metadata": {},
     "output_type": "execute_result"
    }
   ],
   "source": [
    "# Join old and new dataframes by columns axis\n",
    "combined_df = pd.concat([df, newdf], axis='columns', join='inner')\n",
    "combined_df.head()"
   ]
  },
  {
   "cell_type": "code",
   "execution_count": 12,
   "id": "566e45ad-2057-4171-b674-6fa3d687bab1",
   "metadata": {
    "tags": []
   },
   "outputs": [
    {
     "name": "stdout",
     "output_type": "stream",
     "text": [
      "-2315.12\n"
     ]
    }
   ],
   "source": [
    "avg_change = newdf[\"Monthly Change\"].mean()\n",
    "round_avg_change = round(avg_change,2)\n",
    "print(round_avg_change)"
   ]
  },
  {
   "cell_type": "code",
   "execution_count": 13,
   "id": "bf8d1b49-42df-48c6-872c-19ecf5ec99c5",
   "metadata": {
    "tags": []
   },
   "outputs": [
    {
     "name": "stdout",
     "output_type": "stream",
     "text": [
      "1926159.0\n"
     ]
    }
   ],
   "source": [
    "# The greatest increase in profits (amount) over the entire period\n",
    "\n",
    "max_change = newdf[\"Monthly Change\"].max()\n",
    "print(max_change)"
   ]
  },
  {
   "cell_type": "code",
   "execution_count": 14,
   "id": "d6ed0ed0-7b06-4873-bd1a-314835dfe536",
   "metadata": {
    "tags": []
   },
   "outputs": [
    {
     "name": "stdout",
     "output_type": "stream",
     "text": [
      "-2196167.0\n"
     ]
    }
   ],
   "source": [
    "# The greatest decrease in losses (amount) over the entire period\n",
    "\n",
    "min_change = newdf[\"Monthly Change\"].min()\n",
    "print(min_change)"
   ]
  },
  {
   "cell_type": "code",
   "execution_count": 15,
   "id": "0466b40c-064a-4ce1-a9ad-1ada769509bc",
   "metadata": {
    "tags": []
   },
   "outputs": [
    {
     "name": "stdout",
     "output_type": "stream",
     "text": [
      "Feb-2012\n"
     ]
    }
   ],
   "source": [
    "# The greatest increase in profits (date) over the entire period\n",
    "max_date = combined_df.iloc[combined_df[\"Monthly Change\"].argmax(), 0]\n",
    "print(max_date)"
   ]
  },
  {
   "cell_type": "code",
   "execution_count": 16,
   "id": "e56ad666-d758-49c5-8c42-5388a82d2ce7",
   "metadata": {
    "tags": []
   },
   "outputs": [
    {
     "name": "stdout",
     "output_type": "stream",
     "text": [
      "Sep-2013\n"
     ]
    }
   ],
   "source": [
    "# The greatest decrease in losses (date) over the entire period\n",
    "min_date = combined_df.iloc[combined_df[\"Monthly Change\"].argmin(), 0]\n",
    "print(min_date)"
   ]
  },
  {
   "cell_type": "code",
   "execution_count": 24,
   "id": "76634a34-3ba7-4dad-9812-3cea50dacf4d",
   "metadata": {
    "tags": []
   },
   "outputs": [
    {
     "name": "stdout",
     "output_type": "stream",
     "text": [
      "\n",
      "Financial Analysis\n",
      "\n",
      "-------------------------------------------------------------\n",
      "\n",
      "Total Months:                  86\n",
      "\n",
      "Total Profit:                  $ 38382578\n",
      "\n",
      "Average Change:                $ -2315.12\n",
      "\n",
      "Greatest Increase in Profits:   Feb-2012 $ 1926159\n",
      "\n",
      "Greatest Decrease in Profits:   Sep-2013 $ -2196167\n",
      "\n",
      "---------------------------------------------------------------\n"
     ]
    }
   ],
   "source": [
    "print()\n",
    "print(\"Financial Analysis\")\n",
    "print()\n",
    "print(\"-------------------------------------------------------------\")\n",
    "print()\n",
    "print(\"Total Months:                 \", total_months)\n",
    "print()\n",
    "print(\"Total Profit:                 \",\"$\",total_profit)\n",
    "print()\n",
    "print((\"Average Change:                $\"),round_avg_change)\n",
    "print()\n",
    "print((\"Greatest Increase in Profits:  \"),max_date, \"$\",int(max_change))\n",
    "print()\n",
    "print((\"Greatest Decrease in Profits:  \"),min_date, \"$\",int(min_change))\n",
    "print()\n",
    "print(\"---------------------------------------------------------------\")"
   ]
  },
  {
   "cell_type": "code",
   "execution_count": 25,
   "id": "a8ba2e4b-639e-4844-a891-1ebf4e5a5ea9",
   "metadata": {
    "tags": []
   },
   "outputs": [],
   "source": [
    "# Set the output file path\n",
    "output_path = Path(\"output.txt\")\n",
    "\n",
    "# Open the output_path as a file object in \"write\" mode ('w')\n",
    "# Write a header line and write the contents to the file\n",
    "with open(output_path, 'w') as file:\n",
    "    file.write(f'''\n",
    "    Financial Analysis\n",
    "    -------------------------------------------------------------\n",
    "    Total Months:                {total_months} \n",
    "    Total Profit:                ${total_profit} \n",
    "    Average Change:              ${round_avg_change} \n",
    "    Greatest Increase in Profits: {max_date}  ${max_change} \n",
    "    Greatest Decrease in Profits: {min_date}  ${min_change}\n",
    "    --------------------------------------------------------------''') "
   ]
  },
  {
   "cell_type": "code",
   "execution_count": null,
   "id": "b542bcf7-2492-43c2-95a0-527c6d16cac3",
   "metadata": {},
   "outputs": [],
   "source": []
  }
 ],
 "metadata": {
  "kernelspec": {
   "display_name": "Python 3 (ipykernel)",
   "language": "python",
   "name": "python3"
  },
  "language_info": {
   "codemirror_mode": {
    "name": "ipython",
    "version": 3
   },
   "file_extension": ".py",
   "mimetype": "text/x-python",
   "name": "python",
   "nbconvert_exporter": "python",
   "pygments_lexer": "ipython3",
   "version": "3.11.5"
  }
 },
 "nbformat": 4,
 "nbformat_minor": 5
}
